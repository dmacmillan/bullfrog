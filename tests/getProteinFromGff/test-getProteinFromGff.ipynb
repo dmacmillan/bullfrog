{
 "cells": [
  {
   "cell_type": "code",
   "execution_count": 2,
   "metadata": {
    "collapsed": true
   },
   "outputs": [],
   "source": [
    "import importlib\n",
    "import customFunctions\n",
    "import pysam"
   ]
  },
  {
   "cell_type": "code",
   "execution_count": 3,
   "metadata": {},
   "outputs": [
    {
     "data": {
      "text/plain": [
       "<module 'customFunctions' from '/home/dmacmillan/scripts/python3/2018/bullfrog/tests/getProteinFromGff/customFunctions.py'>"
      ]
     },
     "execution_count": 3,
     "metadata": {},
     "output_type": "execute_result"
    }
   ],
   "source": [
    "importlib.reload(customFunctions)"
   ]
  },
  {
   "cell_type": "code",
   "execution_count": 3,
   "metadata": {
    "collapsed": true
   },
   "outputs": [],
   "source": [
    "from customFunctions import *"
   ]
  },
  {
   "cell_type": "markdown",
   "metadata": {},
   "source": [
    "Looking at this transcript:\n",
    "```\n",
    "maker-Rc-01r160223s0000001-snap-gene-1.4-mRNA-1\n",
    "```"
   ]
  },
  {
   "cell_type": "markdown",
   "metadata": {},
   "source": [
    "The amino acid sequence truth is:\n",
    "```\n",
    "GTCCAGATGTGTAAACAGCTACTGAGTGTCCTCTCCTTACATAACACTGAATTAAGTTTGCAATTCTTCAAACACATCTAGACAACAATATACTAAACTTCTTTTAATACAAATTAGCATGACCAAATGAAGTTAACCCTGTATCTGCCCAAAACATTGTATTTGGTTGGCAAACAATGTTTTCTATGACCAATTACTGTGCCCACGAACATGAAAGTAGCCATTTTAAACTGTACAACAGTAAAGAAAAGCACATGGAATAGCATGCAAGTAATAATAATAATCGGAACACACGACAACTACTTACTTTTTAGAAGCACTTTCTTGATCCTTCTGTACTGATCCTGCTCCCTCAATTTCAGGTCTGACCAGCGTTTCCTCAATTGCTTCTTGGATCGTCGTACCCCAAAATTCCTGTGCAGACTCTTCACAACTTTAGTCATGATCTTGTCCTTTCTCACATTTGGGTTTAGGTGCAGTCCATACTTCCCATCATAGTAGGCCCTCTTCAAGATGTCCACCATCTCTACAAAGGCCATATTTGAGGCCTTAAATCTCCTGTGGGATTGGGACATTTCAGGCTCCAGGCTTTCCTCCTCCTCATTACTGATATTATCATGCACCTGCTGTGTCTCCGCCATGTTCCTCTCCCACTGCGATGAAAGAGAAGGGGCGGGGAATATTCAAGAAAGAACGTCAGGGGTGGGCGACGCGGGCAGAGTTTCACGCATGCGCAATGCATATAAAGCTAACACGCGTGTGTCATACGTATGATCTGTGAGCGGAGGAAGCGCCAAACGTTATAACGAAGGTAACATTTTAACTTGGGACATCAGTGGCCTCTACTGATTCGAGATTGAGACCTATATTGGGATAAGATTAGGAGAGTTTAGCCTAATATTAGTGTTTTTGTCCTGTGTATTGTCTTGCAGCAAATATGAAACAATTCAAAGACCCTGAATTCATGGGCCAGTTCATAGACAGATACAGGGATATGAGAAATTTGTGGGAGGTTAAAAACCCCTTATATCAAAATAAACCAGCTAGGAAGGCATCGCTGGAGAAACTGCTGCAATTTGTGAAGACGCAGGTCCCCAAAGCAGACTTCGAGTTTGTGGATAAGAAAATTGGTAGCTTGAGAAGCACGTATAGGAAGGAGCTTAATAAGGTCCAGGCTTCCATGAGATCAGGAGCAGCAGCAAAGGATGTGTATGTACCCAGTCTGTGGTACTACAACAGGATGCGGTTTCTGGAAGACCAGATTGAAGCCAGGGAATCACTTTCTACACTTCCATCCACCCTTCCCTCAACCCCATCTGAGGCTTCTGAGGATCAACCTAGCCCTTCCATCCTGGAAGAAGTTGAGGAGCCCAGCTGGAGCCAGGAAGACCTCAGCCAGGACGAGGCTCTGGAATGTGGCAGCCAGGAGGAGGCG\n",
    "```"
   ]
  },
  {
   "cell_type": "markdown",
   "metadata": {},
   "source": [
    "The protein sequence truth is:\n",
    "```\n",
    "MKQFKDPEFMGQFIDRYRDMRNLWEVKNPLYQNKPARKASLEKLLQFVKTQVPKADFEFVDKKIGSLRSTYRKELNKVQASMRSGAAAKDVYVPSLWYYNRMRFLEDQIEARESLSTLPSTLPSTPSEASEDQPSPSILEEVEEPSWSQEDLSQDEALECGSQEEA\n",
    "```"
   ]
  },
  {
   "cell_type": "code",
   "execution_count": 7,
   "metadata": {
    "collapsed": true
   },
   "outputs": [],
   "source": [
    "# Load the genome\n",
    "v2_genome = pysam.FastaFile('./labeled_data/v2-genome.fa')"
   ]
  },
  {
   "cell_type": "markdown",
   "metadata": {},
   "source": [
    "The gff annotation truth is:\n",
    "```\n",
    "Rc-01r160223s0000001    maker   mRNA    87357   89060   .       +       .       ID=maker-Rc-01r160223s0000001-snap-gene-1.4-mRNA-1;Parent=maker-Rc-01r160223s0000001-snap-gene-1.4;Name=maker-Rc-01r160223s0000001-snap-gene-1.4-mRNA-1;_AED=0.25;_eAED=0.25;_QI=937|1|0.5|1|1|0.5|2|0|166\n",
    "Rc-01r160223s0000001    maker   exon    87357   88740   .       +       .       ID=maker-Rc-01r160223s0000001-snap-gene-1.4-mRNA-1:exon:25;Parent=maker-Rc-01r160223s0000001-snap-gene-1.4-mRNA-1\n",
    "Rc-01r160223s0000001    maker   exon    89010   89060   .       +       .       ID=maker-Rc-01r160223s0000001-snap-gene-1.4-mRNA-1:exon:26;Parent=maker-Rc-01r160223s0000001-snap-gene-1.4-mRNA-1\n",
    "Rc-01r160223s0000001    maker   five_prime_UTR  87357   88293   .       +       .       ID=maker-Rc-01r160223s0000001-snap-gene-1.4-mRNA-1:five_prime_utr;Parent=maker-Rc-01r160223s0000001-snap-gene-1.4-mRNA-1\n",
    "Rc-01r160223s0000001    maker   CDS     88294   88740   .       +       0       ID=maker-Rc-01r160223s0000001-snap-gene-1.4-mRNA-1:cds;Parent=maker-Rc-01r160223s0000001-snap-gene-1.4-mRNA-1\n",
    "Rc-01r160223s0000001    maker   CDS     89010   89060   .       +       0       ID=maker-Rc-01r160223s0000001-snap-gene-1.4-mRNA-1:cds;Parent=maker-Rc-01r160223s0000001-snap-gene-1.4-mRNA-1\n",
    "```"
   ]
  },
  {
   "cell_type": "code",
   "execution_count": 13,
   "metadata": {},
   "outputs": [
    {
     "data": {
      "text/plain": [
       "'TGAAACAATTCAAAGACCCTGAATTCATGGGCCAGTTCATAGACAGATACAGGGATATGAGAAATTTGTGGGAGGTTAAAAACCCCTTATATCAAAATAAACCAGCTAGGAAGGCATCGCTGGAGAAACTGCTGCAATTTGTGAAGACGCAGGTCCCCAAAGCAGACTTCGAGTTTGTGGATAAGAAAATTGGTAGCTTGAGAAGCACGTATAGGAAGGAGCTTAATAAGGTCCAGGCTTCCATGAGATCAGGAGCAGCAGCAAAGGATGTGTATGTACCCAGTCTGTGGTACTACAACAGGATGCGGTTTCTGGAAGACCAGATTGAAGCCAGGGAATCACTTTCTACACTTCCATCCACCCTTCCCTCAACCCCATCTGAGGCTTCTGAGGATCAACCTAGCCCTTCCATCCTGGAAGAAGTTGAGGAGCCCAGCTGGAGCCAG'"
      ]
     },
     "execution_count": 13,
     "metadata": {},
     "output_type": "execute_result"
    }
   ],
   "source": [
    "cds_1_seq = v2_genome.fetch('Rc-01r160223s0000001', 88294, 88740)\n",
    "cds_1_seq"
   ]
  },
  {
   "cell_type": "code",
   "execution_count": 14,
   "metadata": {},
   "outputs": [
    {
     "data": {
      "text/plain": [
       "'AAGACCTCAGCCAGGACGAGGCTCTGGAATGTGGCAGCCAGGAGGAGGCG'"
      ]
     },
     "execution_count": 14,
     "metadata": {},
     "output_type": "execute_result"
    }
   ],
   "source": [
    "cds_2_seq = v2_genome.fetch('Rc-01r160223s0000001', 89010, 89060)\n",
    "cds_2_seq"
   ]
  },
  {
   "cell_type": "code",
   "execution_count": 15,
   "metadata": {},
   "outputs": [
    {
     "data": {
      "text/plain": [
       "'TGAAACAATTCAAAGACCCTGAATTCATGGGCCAGTTCATAGACAGATACAGGGATATGAGAAATTTGTGGGAGGTTAAAAACCCCTTATATCAAAATAAACCAGCTAGGAAGGCATCGCTGGAGAAACTGCTGCAATTTGTGAAGACGCAGGTCCCCAAAGCAGACTTCGAGTTTGTGGATAAGAAAATTGGTAGCTTGAGAAGCACGTATAGGAAGGAGCTTAATAAGGTCCAGGCTTCCATGAGATCAGGAGCAGCAGCAAAGGATGTGTATGTACCCAGTCTGTGGTACTACAACAGGATGCGGTTTCTGGAAGACCAGATTGAAGCCAGGGAATCACTTTCTACACTTCCATCCACCCTTCCCTCAACCCCATCTGAGGCTTCTGAGGATCAACCTAGCCCTTCCATCCTGGAAGAAGTTGAGGAGCCCAGCTGGAGCCAGAAGACCTCAGCCAGGACGAGGCTCTGGAATGTGGCAGCCAGGAGGAGGCG'"
      ]
     },
     "execution_count": 15,
     "metadata": {},
     "output_type": "execute_result"
    }
   ],
   "source": [
    "seq = cds_1_seq + cds_2_seq\n",
    "seq"
   ]
  },
  {
   "cell_type": "code",
   "execution_count": 16,
   "metadata": {},
   "outputs": [
    {
     "name": "stderr",
     "output_type": "stream",
     "text": [
      "WARNING:root:Sequence of length 496 is not divisible by 3\n"
     ]
    },
    {
     "data": {
      "text/plain": [
       "'-NNSKTLNSWASS-TDTGI-EICGRLKTPYIKINQLGRHRWRNCCNL-RRRSPKQTSSLWIRKLVA-EARIGRSLIRSRLP-DQEQQQRMCMYPVCGTTTGCGFWKTRLKPGNHFLHFHPPFPQPHLRLLRINLALPSWKKLRSPAGARRPQPGRGSGMWQPGGG'"
      ]
     },
     "execution_count": 16,
     "metadata": {},
     "output_type": "execute_result"
    }
   ],
   "source": [
    "trans(seq)"
   ]
  },
  {
   "cell_type": "markdown",
   "metadata": {},
   "source": [
    "I noticed that if I decrease the start coordinate of each CDS then I get the matching sequence!"
   ]
  },
  {
   "cell_type": "code",
   "execution_count": 17,
   "metadata": {},
   "outputs": [
    {
     "data": {
      "text/plain": [
       "'ATGAAACAATTCAAAGACCCTGAATTCATGGGCCAGTTCATAGACAGATACAGGGATATGAGAAATTTGTGGGAGGTTAAAAACCCCTTATATCAAAATAAACCAGCTAGGAAGGCATCGCTGGAGAAACTGCTGCAATTTGTGAAGACGCAGGTCCCCAAAGCAGACTTCGAGTTTGTGGATAAGAAAATTGGTAGCTTGAGAAGCACGTATAGGAAGGAGCTTAATAAGGTCCAGGCTTCCATGAGATCAGGAGCAGCAGCAAAGGATGTGTATGTACCCAGTCTGTGGTACTACAACAGGATGCGGTTTCTGGAAGACCAGATTGAAGCCAGGGAATCACTTTCTACACTTCCATCCACCCTTCCCTCAACCCCATCTGAGGCTTCTGAGGATCAACCTAGCCCTTCCATCCTGGAAGAAGTTGAGGAGCCCAGCTGGAGCCAG'"
      ]
     },
     "execution_count": 17,
     "metadata": {},
     "output_type": "execute_result"
    }
   ],
   "source": [
    "cds_1_seq = v2_genome.fetch('Rc-01r160223s0000001', 88293, 88740)\n",
    "cds_1_seq"
   ]
  },
  {
   "cell_type": "code",
   "execution_count": 18,
   "metadata": {},
   "outputs": [
    {
     "data": {
      "text/plain": [
       "'GAAGACCTCAGCCAGGACGAGGCTCTGGAATGTGGCAGCCAGGAGGAGGCG'"
      ]
     },
     "execution_count": 18,
     "metadata": {},
     "output_type": "execute_result"
    }
   ],
   "source": [
    "cds_2_seq = v2_genome.fetch('Rc-01r160223s0000001', 89009, 89060)\n",
    "cds_2_seq"
   ]
  },
  {
   "cell_type": "code",
   "execution_count": 19,
   "metadata": {},
   "outputs": [
    {
     "data": {
      "text/plain": [
       "'ATGAAACAATTCAAAGACCCTGAATTCATGGGCCAGTTCATAGACAGATACAGGGATATGAGAAATTTGTGGGAGGTTAAAAACCCCTTATATCAAAATAAACCAGCTAGGAAGGCATCGCTGGAGAAACTGCTGCAATTTGTGAAGACGCAGGTCCCCAAAGCAGACTTCGAGTTTGTGGATAAGAAAATTGGTAGCTTGAGAAGCACGTATAGGAAGGAGCTTAATAAGGTCCAGGCTTCCATGAGATCAGGAGCAGCAGCAAAGGATGTGTATGTACCCAGTCTGTGGTACTACAACAGGATGCGGTTTCTGGAAGACCAGATTGAAGCCAGGGAATCACTTTCTACACTTCCATCCACCCTTCCCTCAACCCCATCTGAGGCTTCTGAGGATCAACCTAGCCCTTCCATCCTGGAAGAAGTTGAGGAGCCCAGCTGGAGCCAGGAAGACCTCAGCCAGGACGAGGCTCTGGAATGTGGCAGCCAGGAGGAGGCG'"
      ]
     },
     "execution_count": 19,
     "metadata": {},
     "output_type": "execute_result"
    }
   ],
   "source": [
    "seq = cds_1_seq + cds_2_seq\n",
    "seq"
   ]
  },
  {
   "cell_type": "code",
   "execution_count": 20,
   "metadata": {},
   "outputs": [
    {
     "data": {
      "text/plain": [
       "'MKQFKDPEFMGQFIDRYRDMRNLWEVKNPLYQNKPARKASLEKLLQFVKTQVPKADFEFVDKKIGSLRSTYRKELNKVQASMRSGAAAKDVYVPSLWYYNRMRFLEDQIEARESLSTLPSTLPSTPSEASEDQPSPSILEEVEEPSWSQEDLSQDEALECGSQEEA'"
      ]
     },
     "execution_count": 20,
     "metadata": {},
     "output_type": "execute_result"
    }
   ],
   "source": [
    "trans(seq)"
   ]
  },
  {
   "cell_type": "code",
   "execution_count": 21,
   "metadata": {
    "collapsed": true
   },
   "outputs": [],
   "source": [
    "truth_protein = 'MKQFKDPEFMGQFIDRYRDMRNLWEVKNPLYQNKPARKASLEKLLQFVKTQVPKADFEFVDKKIGSLRSTYRKELNKVQASMRSGAAAKDVYVPSLWYYNRMRFLEDQIEARESLSTLPSTLPSTPSEASEDQPSPSILEEVEEPSWSQEDLSQDEALECGSQEEA'"
   ]
  },
  {
   "cell_type": "code",
   "execution_count": 22,
   "metadata": {},
   "outputs": [
    {
     "data": {
      "text/plain": [
       "True"
      ]
     },
     "execution_count": 22,
     "metadata": {},
     "output_type": "execute_result"
    }
   ],
   "source": [
    "trans(seq) == truth_protein"
   ]
  },
  {
   "cell_type": "markdown",
   "metadata": {},
   "source": [
    "# Case 2"
   ]
  },
  {
   "cell_type": "code",
   "execution_count": 1,
   "metadata": {
    "collapsed": true
   },
   "outputs": [],
   "source": [
    "scaffold = 'Rc-01r160223s0607257'\n",
    "transcript = 'maker-Rc-01r160223s0607257-snap-gene-0.1-mRNA-1'\n",
    "protein = 'FCAAHCRPIVCLEGQQGEADSHKPIKEGKQALCLEATVLVVDMVHLHQHLTVLSRNMRKTWSSGWPCRPHPPHPLTQAQGTLSGKAAANVASSLGSMASVTPSLAPPCPSEESLELFDHSVGYMLQEDAQRFKGSDDGTQLEENSNVSPNRGGAQEGQQSGSHVPPAAAYCQVCSSDEEGGDDEVTGSTWVPDRREEEAHHQRGRMPSRGQPKGSTLTASHRRAPHVQGAAVSALYSKSSLVWAFFETSASDRTSAICNICLKRISRGQNISRLGTTCLTRHMLTCHAVHWQ'"
   ]
  },
  {
   "cell_type": "code",
   "execution_count": 13,
   "metadata": {},
   "outputs": [],
   "source": [
    "gff = Gff.read('./case2.gff')"
   ]
  },
  {
   "cell_type": "code",
   "execution_count": 14,
   "metadata": {},
   "outputs": [],
   "source": [
    "cds = sorted([x for x in gff if x.feature == 'CDS'], key = lambda x: x.start)"
   ]
  },
  {
   "cell_type": "code",
   "execution_count": 15,
   "metadata": {},
   "outputs": [
    {
     "name": "stdout",
     "output_type": "stream",
     "text": [
      "Rc-01r160223s0607257\tmaker\tCDS\t47\t775\t.\t-\t0\tID=maker-Rc-01r160223s0607257-snap-gene-0.1-mRNA-1:cds; Parent=maker-Rc-01r160223s0607257-snap-gene-0.1-mRNA-1\n",
      "Rc-01r160223s0607257\tmaker\tCDS\t812\t958\t.\t-\t0\tID=maker-Rc-01r160223s0607257-snap-gene-0.1-mRNA-1:cds; Parent=maker-Rc-01r160223s0607257-snap-gene-0.1-mRNA-1\n"
     ]
    }
   ],
   "source": [
    "for i in cds:\n",
    "    print(i)"
   ]
  },
  {
   "cell_type": "code",
   "execution_count": 17,
   "metadata": {
    "collapsed": true
   },
   "outputs": [],
   "source": [
    "import pysam"
   ]
  },
  {
   "cell_type": "code",
   "execution_count": 18,
   "metadata": {},
   "outputs": [],
   "source": [
    "v3_genome = pysam.FastaFile('/projects/bullfrog_assembly/genome/releases/RC-genome-V3-20170621.submission.fa')"
   ]
  },
  {
   "cell_type": "code",
   "execution_count": 20,
   "metadata": {},
   "outputs": [
    {
     "data": {
      "text/plain": [
       "['TTGCCAATGAACTGCATGGCAGGTCAACATATGTCTGGTCAAGCATGTGGTGCCCAAGCGGGAGATGTTTTGGCCACGCGAGATACGCTTGAGACATATGTTGCAAATAGCAGAGGTGCGATCTGATGCACTCGTCTCAAAAAAGGCCCACACCAAAGAACTTTTGGAATAAAGTGCAGAGACAGCAGCGCCCTGCACATGCGGAGCTCTGCGGTGTGATGCAGTCAGTGTGCTGCCCTTAGGCTGGCCCCTGGAGGGCATCCTGCCTCGTTGGTGATGTGCCTCCTCCTCTCTCCTATCAGGCACCCACGTGGAACCAGTGACCTCATCATCCCCTCCCTCCTCATCACTGGAGCAAACCTGGCAGTATGCTGCAGCAGGGGGAACATGACTGCCAGATTGCTGTCCTTCTTGGGCACCCCCTCTGTTTGGGCTCACGTTACTGTTTTCCTCTAGCTGAGTACCATCATCGGAGCCTTTAAAACGCTGGGCATCCTCCTGGAGCATGTACCCAACACTGTGGTCAAACAATTCGAGGGACTCTTCAGAAGGACATGGTGGGGCTAGGGAAGGAGTCACTGATGCCATTGAGCCGAGGGAAGAGGCCACGTTGGCAGCTGCTTTGCCAGACAAAGTACCCTGAGCCTGGGTGAGAGGATGAGGAGGATGAGGACGGCATGGCCATCCACTCGACCAAGTCTTCCGCATGTTGCGGCTCAACACGGTCAG',\n",
       " 'GTGCTGATGAAGATGCACCATGTCCACGACCAGCACTGTTGCCTCTAGACACAGAGCCTGCTTGCCCTCTTTTATTGGCTTATGACTGTCTGCCTCTCCTTGTTGGCCTTCCAGACATACTATTGGCCTACAGTGAGCTGCACAAAA']"
      ]
     },
     "execution_count": 20,
     "metadata": {},
     "output_type": "execute_result"
    }
   ],
   "source": [
    "seqs = [v3_genome.fetch(scaffold, x.start - 1, x.end) for x in cds]\n",
    "seqs"
   ]
  },
  {
   "cell_type": "code",
   "execution_count": 21,
   "metadata": {},
   "outputs": [
    {
     "data": {
      "text/plain": [
       "'TTGCCAATGAACTGCATGGCAGGTCAACATATGTCTGGTCAAGCATGTGGTGCCCAAGCGGGAGATGTTTTGGCCACGCGAGATACGCTTGAGACATATGTTGCAAATAGCAGAGGTGCGATCTGATGCACTCGTCTCAAAAAAGGCCCACACCAAAGAACTTTTGGAATAAAGTGCAGAGACAGCAGCGCCCTGCACATGCGGAGCTCTGCGGTGTGATGCAGTCAGTGTGCTGCCCTTAGGCTGGCCCCTGGAGGGCATCCTGCCTCGTTGGTGATGTGCCTCCTCCTCTCTCCTATCAGGCACCCACGTGGAACCAGTGACCTCATCATCCCCTCCCTCCTCATCACTGGAGCAAACCTGGCAGTATGCTGCAGCAGGGGGAACATGACTGCCAGATTGCTGTCCTTCTTGGGCACCCCCTCTGTTTGGGCTCACGTTACTGTTTTCCTCTAGCTGAGTACCATCATCGGAGCCTTTAAAACGCTGGGCATCCTCCTGGAGCATGTACCCAACACTGTGGTCAAACAATTCGAGGGACTCTTCAGAAGGACATGGTGGGGCTAGGGAAGGAGTCACTGATGCCATTGAGCCGAGGGAAGAGGCCACGTTGGCAGCTGCTTTGCCAGACAAAGTACCCTGAGCCTGGGTGAGAGGATGAGGAGGATGAGGACGGCATGGCCATCCACTCGACCAAGTCTTCCGCATGTTGCGGCTCAACACGGTCAGGTGCTGATGAAGATGCACCATGTCCACGACCAGCACTGTTGCCTCTAGACACAGAGCCTGCTTGCCCTCTTTTATTGGCTTATGACTGTCTGCCTCTCCTTGTTGGCCTTCCAGACATACTATTGGCCTACAGTGAGCTGCACAAAA'"
      ]
     },
     "execution_count": 21,
     "metadata": {},
     "output_type": "execute_result"
    }
   ],
   "source": [
    "full_seq = ''.join(seqs)\n",
    "full_seq"
   ]
  },
  {
   "cell_type": "code",
   "execution_count": 22,
   "metadata": {},
   "outputs": [
    {
     "data": {
      "text/plain": [
       "'TTTTGTGCAGCTCACTGTAGGCCAATAGTATGTCTGGAAGGCCAACAAGGAGAGGCAGACAGTCATAAGCCAATAAAAGAGGGCAAGCAGGCTCTGTGTCTAGAGGCAACAGTGCTGGTCGTGGACATGGTGCATCTTCATCAGCACCTGACCGTGTTGAGCCGCAACATGCGGAAGACTTGGTCGAGTGGATGGCCATGCCGTCCTCATCCTCCTCATCCTCTCACCCAGGCTCAGGGTACTTTGTCTGGCAAAGCAGCTGCCAACGTGGCCTCTTCCCTCGGCTCAATGGCATCAGTGACTCCTTCCCTAGCCCCACCATGTCCTTCTGAAGAGTCCCTCGAATTGTTTGACCACAGTGTTGGGTACATGCTCCAGGAGGATGCCCAGCGTTTTAAAGGCTCCGATGATGGTACTCAGCTAGAGGAAAACAGTAACGTGAGCCCAAACAGAGGGGGTGCCCAAGAAGGACAGCAATCTGGCAGTCATGTTCCCCCTGCTGCAGCATACTGCCAGGTTTGCTCCAGTGATGAGGAGGGAGGGGATGATGAGGTCACTGGTTCCACGTGGGTGCCTGATAGGAGAGAGGAGGAGGCACATCACCAACGAGGCAGGATGCCCTCCAGGGGCCAGCCTAAGGGCAGCACACTGACTGCATCACACCGCAGAGCTCCGCATGTGCAGGGCGCTGCTGTCTCTGCACTTTATTCCAAAAGTTCTTTGGTGTGGGCCTTTTTTGAGACGAGTGCATCAGATCGCACCTCTGCTATTTGCAACATATGTCTCAAGCGTATCTCGCGTGGCCAAAACATCTCCCGCTTGGGCACCACATGCTTGACCAGACATATGTTGACCTGCCATGCAGTTCATTGGCAA'"
      ]
     },
     "execution_count": 22,
     "metadata": {},
     "output_type": "execute_result"
    }
   ],
   "source": [
    "rev_comp(full_seq)"
   ]
  },
  {
   "cell_type": "code",
   "execution_count": 23,
   "metadata": {},
   "outputs": [
    {
     "data": {
      "text/plain": [
       "'FCAAHCRPIVCLEGQQGEADSHKPIKEGKQALCLEATVLVVDMVHLHQHLTVLSRNMRKTWSSGWPCRPHPPHPLTQAQGTLSGKAAANVASSLGSMASVTPSLAPPCPSEESLELFDHSVGYMLQEDAQRFKGSDDGTQLEENSNVSPNRGGAQEGQQSGSHVPPAAAYCQVCSSDEEGGDDEVTGSTWVPDRREEEAHHQRGRMPSRGQPKGSTLTASHRRAPHVQGAAVSALYSKSSLVWAFFETSASDRTSAICNICLKRISRGQNISRLGTTCLTRHMLTCHAVHWQ'"
      ]
     },
     "execution_count": 23,
     "metadata": {},
     "output_type": "execute_result"
    }
   ],
   "source": [
    "trans(rev_comp(full_seq))"
   ]
  }
 ],
 "metadata": {
  "kernelspec": {
   "display_name": "Python 3",
   "language": "python",
   "name": "python3"
  },
  "language_info": {
   "codemirror_mode": {
    "name": "ipython",
    "version": 3
   },
   "file_extension": ".py",
   "mimetype": "text/x-python",
   "name": "python",
   "nbconvert_exporter": "python",
   "pygments_lexer": "ipython3",
   "version": "3.6.2"
  }
 },
 "nbformat": 4,
 "nbformat_minor": 2
}
